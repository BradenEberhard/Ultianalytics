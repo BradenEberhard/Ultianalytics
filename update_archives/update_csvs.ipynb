{
 "cells": [
  {
   "cell_type": "code",
   "execution_count": 10,
   "metadata": {},
   "outputs": [],
   "source": [
    "date='0704'"
   ]
  },
  {
   "attachments": {},
   "cell_type": "markdown",
   "metadata": {},
   "source": [
    "WIN PROBABILITY DATA"
   ]
  },
  {
   "cell_type": "code",
   "execution_count": null,
   "metadata": {},
   "outputs": [],
   "source": [
    "import pandas as pd\n",
    "import requests\n",
    "from audl.stats.endpoints.gameevents import *\n",
    "import numpy as np\n",
    "\n",
    "features = ['thrower_x', 'thrower_y', 'start_on_offense', 'point_start_time', 'possession_num', 'possession_throw', 'game_quarter', 'quarter_point', 'is_home_team', 'home_team_score', 'away_team_score', 'gameID', 'total_points', 'home_teamID', 'away_teamID']\n",
    "\n",
    "def process_games(GAMES):\n",
    "    GAMES['total_points'] = GAMES['home_team_score'] + GAMES['away_team_score']\n",
    "    GAMES = GAMES[GAMES.game_quarter < 5] ##TODO include overtimes\n",
    "    GAMES['point_start_time'] = 720 - GAMES['point_start_time']\n",
    "    GAMES = GAMES[features]\n",
    "\n",
    "    games = []\n",
    "    for gameID in GAMES.gameID.unique():\n",
    "        GAME = GAMES[GAMES.gameID == gameID]\n",
    "        points = []\n",
    "        prev_point_time = 720\n",
    "        current_quarter = 1\n",
    "        prev_df = None\n",
    "        error_points = 0\n",
    "        for group_keys, group_df in GAME.groupby(['total_points', 'game_quarter']):\n",
    "            if prev_df is None:\n",
    "                prev_df = group_df\n",
    "                continue\n",
    "\n",
    "            prev_point_time = prev_df.point_start_time.max()\n",
    "            if (current_quarter != group_df.game_quarter.max()):\n",
    "                current_quarter = group_df.game_quarter.max()\n",
    "                current_point_time = 0\n",
    "            else:\n",
    "                current_point_time = group_df.point_start_time.max()\n",
    "            if current_point_time >= prev_point_time:\n",
    "                error_points = error_points + 1\n",
    "                continue\n",
    "            times = np.linspace(prev_point_time, current_point_time + 1, len(prev_df))\n",
    "            prev_df['times'] = times\n",
    "            points.append(prev_df)\n",
    "            prev_df = group_df\n",
    "            if group_keys == (GAME.home_team_score.max()+GAME.away_team_score.max(), 4):\n",
    "                times = np.linspace(current_point_time, 0, len(prev_df))\n",
    "                prev_df['times'] = times\n",
    "                points.append(prev_df)\n",
    "        GAME_POINTS = pd.concat(points)\n",
    "        GAME_POINTS.times = GAME_POINTS.times + ((4 - GAME_POINTS.game_quarter)*720)\n",
    "        try:\n",
    "            # if error_points > 0:\n",
    "            #     print(f'{error_points} errors with {GAME_POINTS.gameID.iloc[0]}')\n",
    "            assert GAME_POINTS.times.is_monotonic_decreasing, f'timing is off somewhere for game: {GAME_POINTS.gameID.iloc[0]}'\n",
    "            home_team_win = GAME_POINTS[['away_team_score', 'home_team_score']].max().values.argmax() if GAME_POINTS['home_team_score'].max() != GAME_POINTS['away_team_score'].max() else -2\n",
    "            GAME_POINTS['home_team_win'] = home_team_win\n",
    "            games.append(GAME_POINTS)\n",
    "        except AssertionError as e:\n",
    "            print(e)\n",
    "\n",
    "        PROCESSED_GAMES = pd.concat(games).drop(['point_start_time', 'start_on_offense'], axis=1)\n",
    "        PROCESSED_GAMES['score_diff'] = PROCESSED_GAMES['home_team_score'] - PROCESSED_GAMES['away_team_score']\n",
    "    return PROCESSED_GAMES[PROCESSED_GAMES.home_team_win >= 0]\n",
    "\n",
    "base_url = \"https://www.backend.audlstats.com/api/v1/\"\n",
    "\n",
    "endpoint = \"games?date=2021:\"\n",
    "ids = pd.DataFrame(requests.get(f'{base_url}{endpoint}').json()['data'])['gameID'].values\n",
    "\n",
    "game_events_proxy = GameEventsProxy()\n",
    "all_games = []\n",
    "for id in ids:\n",
    "    try:\n",
    "        game_events = GameEvents(id, game_events_proxy)\n",
    "        game_events.process_game_events()\n",
    "        game_df = game_events.get_events_df(True, True, True)\n",
    "        all_games.append(game_df)\n",
    "    except AssertionError as e:\n",
    "        print(id)\n",
    "        print(e)\n",
    "    except Exception as e:\n",
    "        print(id)\n",
    "        raise e\n",
    "ALL_GAMES = pd.concat(all_games)\n",
    "ALL_GAMES.to_csv(f'../data/raw/all_games_{date}.csv', index=False)\n",
    "df = process_games(ALL_GAMES)\n",
    "df.to_csv(f'../data/processed/all_games_{date}.csv', index=False)\n"
   ]
  },
  {
   "attachments": {},
   "cell_type": "markdown",
   "metadata": {},
   "source": [
    "PLAYER DATA"
   ]
  },
  {
   "cell_type": "code",
   "execution_count": 12,
   "metadata": {},
   "outputs": [],
   "source": [
    "from audl.stats.endpoints.playerstats import PlayerStats\n",
    "import pandas as pd\n",
    "year = 2021\n",
    "dfs = []\n",
    "while True:\n",
    "    df = PlayerStats(year, 'total', 'all').fetch_table()\n",
    "    df['year'] = year\n",
    "    dfs.append(df)\n",
    "    year = year+1\n",
    "    if len(df) == 0:\n",
    "        break\n",
    "player_stats_by_year = pd.concat(dfs)\n",
    "player_stats_by_year.to_csv(f'../data/raw/player_stat_by_year_{date}')"
   ]
  },
  {
   "cell_type": "code",
   "execution_count": 85,
   "metadata": {},
   "outputs": [],
   "source": [
    "from audl.stats.endpoints.players import Players\n",
    "from audl.stats.endpoints.teams import Teams\n",
    "\n",
    "teams = Teams()\n",
    "teams_df = teams.get_teams()\n",
    "teams_df = pd.merge(teams_df.drop('division', axis=1).reset_index(drop=True), teams_df.division.apply(pd.Series).reset_index(drop=True), left_index=True, right_index=True)\n",
    "teams_df.to_csv(f'../data/raw/teams_{date}')\n",
    "\n",
    "players = Players()\n",
    "players_df = players.get_players()\n",
    "players_df = players_df.explode('teams')\n",
    "players_df = pd.merge(players_df.drop('teams', axis=1).reset_index(drop=True), players_df.teams.apply(pd.Series).reset_index(drop=True), left_index=True, right_index=True)\n",
    "players_df['firstName'] = players_df['firstName'].apply(lambda x:str(x).strip())\n",
    "players_df['lastName'] = players_df['lastName'].apply(lambda x:str(x).strip())\n",
    "players_df.to_csv(f'../data/raw/players_{date}')"
   ]
  },
  {
   "cell_type": "code",
   "execution_count": 86,
   "metadata": {},
   "outputs": [
    {
     "data": {
      "text/plain": [
       "5"
      ]
     },
     "execution_count": 86,
     "metadata": {},
     "output_type": "execute_result"
    }
   ],
   "source": [
    "len(players_df[players_df.lastName=='Grovic'].firstName.iloc[0])"
   ]
  }
 ],
 "metadata": {
  "kernelspec": {
   "display_name": "base",
   "language": "python",
   "name": "python3"
  },
  "language_info": {
   "codemirror_mode": {
    "name": "ipython",
    "version": 3
   },
   "file_extension": ".py",
   "mimetype": "text/x-python",
   "name": "python",
   "nbconvert_exporter": "python",
   "pygments_lexer": "ipython3",
   "version": "3.9.13"
  },
  "orig_nbformat": 4
 },
 "nbformat": 4,
 "nbformat_minor": 2
}
