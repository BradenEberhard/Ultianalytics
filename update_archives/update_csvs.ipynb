{
 "cells": [
  {
   "cell_type": "code",
   "execution_count": 10,
   "metadata": {},
   "outputs": [],
   "source": [
    "date='0704'"
   ]
  },
  {
   "attachments": {},
   "cell_type": "markdown",
   "metadata": {},
   "source": [
    "WIN PROBABILITY DATA"
   ]
  },
  {
   "cell_type": "code",
   "execution_count": null,
   "metadata": {},
   "outputs": [],
   "source": [
    "import pandas as pd\n",
    "import requests\n",
    "from audl.stats.endpoints.gameevents import *\n",
    "import numpy as np\n",
    "\n",
    "features = ['thrower_x', 'thrower_y', 'start_on_offense', 'point_start_time', 'possession_num', 'possession_throw', 'game_quarter', 'quarter_point', 'is_home_team', 'home_team_score', 'away_team_score', 'gameID', 'total_points', 'home_teamID', 'away_teamID']\n",
    "\n",
    "def process_games(GAMES):\n",
    "    GAMES['total_points'] = GAMES['home_team_score'] + GAMES['away_team_score']\n",
    "    GAMES = GAMES[GAMES.game_quarter < 5] ##TODO include overtimes\n",
    "    GAMES['point_start_time'] = 720 - GAMES['point_start_time']\n",
    "    GAMES = GAMES[features]\n",
    "\n",
    "    games = []\n",
    "    for gameID in GAMES.gameID.unique():\n",
    "        GAME = GAMES[GAMES.gameID == gameID]\n",
    "        points = []\n",
    "        prev_point_time = 720\n",
    "        current_quarter = 1\n",
    "        prev_df = None\n",
    "        error_points = 0\n",
    "        for group_keys, group_df in GAME.groupby(['total_points', 'game_quarter']):\n",
    "            if prev_df is None:\n",
    "                prev_df = group_df\n",
    "                continue\n",
    "\n",
    "            prev_point_time = prev_df.point_start_time.max()\n",
    "            if (current_quarter != group_df.game_quarter.max()):\n",
    "                current_quarter = group_df.game_quarter.max()\n",
    "                current_point_time = 0\n",
    "            else:\n",
    "                current_point_time = group_df.point_start_time.max()\n",
    "            if current_point_time >= prev_point_time:\n",
    "                error_points = error_points + 1\n",
    "                continue\n",
    "            times = np.linspace(prev_point_time, current_point_time + 1, len(prev_df))\n",
    "            prev_df['times'] = times\n",
    "            points.append(prev_df)\n",
    "            prev_df = group_df\n",
    "            if group_keys == (GAME.home_team_score.max()+GAME.away_team_score.max(), 4):\n",
    "                times = np.linspace(current_point_time, 0, len(prev_df))\n",
    "                prev_df['times'] = times\n",
    "                points.append(prev_df)\n",
    "        GAME_POINTS = pd.concat(points)\n",
    "        GAME_POINTS.times = GAME_POINTS.times + ((4 - GAME_POINTS.game_quarter)*720)\n",
    "        try:\n",
    "            # if error_points > 0:\n",
    "            #     print(f'{error_points} errors with {GAME_POINTS.gameID.iloc[0]}')\n",
    "            assert GAME_POINTS.times.is_monotonic_decreasing, f'timing is off somewhere for game: {GAME_POINTS.gameID.iloc[0]}'\n",
    "            home_team_win = GAME_POINTS[['away_team_score', 'home_team_score']].max().values.argmax() if GAME_POINTS['home_team_score'].max() != GAME_POINTS['away_team_score'].max() else -2\n",
    "            GAME_POINTS['home_team_win'] = home_team_win\n",
    "            games.append(GAME_POINTS)\n",
    "        except AssertionError as e:\n",
    "            print(e)\n",
    "\n",
    "        PROCESSED_GAMES = pd.concat(games).drop(['point_start_time', 'start_on_offense'], axis=1)\n",
    "        PROCESSED_GAMES['score_diff'] = PROCESSED_GAMES['home_team_score'] - PROCESSED_GAMES['away_team_score']\n",
    "    return PROCESSED_GAMES[PROCESSED_GAMES.home_team_win >= 0]\n",
    "\n",
    "base_url = \"https://www.backend.audlstats.com/api/v1/\"\n",
    "\n",
    "endpoint = \"games?date=2021:\"\n",
    "ids = pd.DataFrame(requests.get(f'{base_url}{endpoint}').json()['data'])['gameID'].values\n",
    "\n",
    "game_events_proxy = GameEventsProxy()\n",
    "all_games = []\n",
    "for id in ids:\n",
    "    try:\n",
    "        game_events = GameEvents(id, game_events_proxy)\n",
    "        game_events.process_game_events()\n",
    "        game_df = game_events.get_events_df(True, True, True)\n",
    "        all_games.append(game_df)\n",
    "    except AssertionError as e:\n",
    "        print(id)\n",
    "        print(e)\n",
    "    except Exception as e:\n",
    "        print(id)\n",
    "        raise e\n",
    "ALL_GAMES = pd.concat(all_games)\n",
    "ALL_GAMES.to_csv(f'../data/raw/all_games_{date}.csv', index=False)\n",
    "df = process_games(ALL_GAMES)\n",
    "df.to_csv(f'../data/processed/all_games_{date}.csv', index=False)\n"
   ]
  },
  {
   "attachments": {},
   "cell_type": "markdown",
   "metadata": {},
   "source": [
    "PLAYER DATA"
   ]
  },
  {
   "cell_type": "code",
   "execution_count": 12,
   "metadata": {},
   "outputs": [],
   "source": [
    "from audl.stats.endpoints.playerstats import PlayerStats\n",
    "import pandas as pd\n",
    "year = 2021\n",
    "dfs = []\n",
    "while True:\n",
    "    df = PlayerStats(year, 'total', 'all').fetch_table()\n",
    "    df['year'] = year\n",
    "    dfs.append(df)\n",
    "    year = year+1\n",
    "    if len(df) == 0:\n",
    "        break\n",
    "player_stats_by_year = pd.concat(dfs)\n",
    "player_stats_by_year.to_csv(f'../data/raw/player_stat_by_year_{date}')"
   ]
  },
  {
   "cell_type": "code",
   "execution_count": 85,
   "metadata": {},
   "outputs": [],
   "source": [
    "from audl.stats.endpoints.players import Players\n",
    "from audl.stats.endpoints.teams import Teams\n",
    "\n",
    "teams = Teams()\n",
    "teams_df = teams.get_teams()\n",
    "teams_df = pd.merge(teams_df.drop('division', axis=1).reset_index(drop=True), teams_df.division.apply(pd.Series).reset_index(drop=True), left_index=True, right_index=True)\n",
    "teams_df.to_csv(f'../data/raw/teams_{date}')\n",
    "\n",
    "players = Players()\n",
    "players_df = players.get_players()\n",
    "players_df = players_df.explode('teams')\n",
    "players_df = pd.merge(players_df.drop('teams', axis=1).reset_index(drop=True), players_df.teams.apply(pd.Series).reset_index(drop=True), left_index=True, right_index=True)\n",
    "players_df['firstName'] = players_df['firstName'].apply(lambda x:str(x).strip())\n",
    "players_df['lastName'] = players_df['lastName'].apply(lambda x:str(x).strip())\n",
    "players_df.to_csv(f'../data/raw/players_{date}')"
   ]
  },
  {
   "cell_type": "code",
   "execution_count": 11,
   "metadata": {},
   "outputs": [],
   "source": [
    "from audl.stats.endpoints.playergamestats import PlayerGameStats\n",
    "import pandas as pd\n",
    "playergamestats = PlayerGameStats()"
   ]
  },
  {
   "cell_type": "code",
   "execution_count": 19,
   "metadata": {},
   "outputs": [],
   "source": [
    "gameID = '2023-06-24-DC-BOS'\n",
    "game_stats_df = playergamestats.get_request_as_df(f'playerGameStats?gameID={gameID}')\n",
    "game_stats_df = pd.merge(game_stats_df.player.apply(pd.Series), game_stats_df.drop('player', axis=1), left_index=True, right_index=True)\n",
    "game_stats_df['fullName'] = game_stats_df['firstName'] + ' ' + game_stats_df['lastName']\n",
    "stats_cols = ['playerID', 'full_name', 'assists', 'goals', 'hockeyAssists', 'completions', 'throwaways', 'stalls', 'yardsReceived', 'yardsThrown', 'hucksCompleted', 'drops',\n",
    " 'blocks', 'callahans', 'oPointsPlayed', 'dPointsPlayed']"
   ]
  },
  {
   "cell_type": "code",
   "execution_count": null,
   "metadata": {},
   "outputs": [],
   "source": [
    "['playerID', 'full_name', 'assists', 'goals', 'hockeyAssists', 'completions', 'throwaways', 'stalls', 'yardsReceived', 'yardsThrown', 'hucksCompleted', 'drops',\n",
    " 'blocks', 'callahans', 'oPointsPlayed', 'dPointsPlayed']"
   ]
  },
  {
   "cell_type": "code",
   "execution_count": 1,
   "metadata": {},
   "outputs": [],
   "source": [
    "from audl.stats.endpoints.gameevents import GameEventsProxy\n",
    "game_events = GameEventsProxy()\n",
    "game_events.get_throws_from_id('2023-06-24-DC-BOS')"
   ]
  },
  {
   "cell_type": "code",
   "execution_count": 14,
   "metadata": {},
   "outputs": [],
   "source": [
    "rows = []\n",
    "for event in game_events.current_request['homeEvents']:\n",
    "    if event['type'] in [18, 19, 20, 22, 23]:\n",
    "        turnover = 1 if event['type'] in [20, 22, 23] else 0\n",
    "        event['turnover'] = turnover\n",
    "        if 'receiverX' not in event:\n",
    "            event['receiverX'], event['receiverY'] = event['turnoverX'], event['turnoverY']\n",
    "        event['is_home_team'], event['turnoverX'], event['turnoverY'] = True, None, None\n",
    "        rows.append(event)\n",
    "\n",
    "for event in game_events.current_request['awayEvents']:\n",
    "    if event['type'] in [18, 19, 20, 22, 23]:\n",
    "        turnover = 1 if event['type'] in [20, 22, 23] else 0\n",
    "        event['turnover'] = turnover\n",
    "        if 'receiverX' not in event:\n",
    "            event['receiverX'], event['receiverY'] = event['turnoverX'], event['turnoverY']\n",
    "        event['is_home_team'], event['turnoverX'], event['turnoverY'] = False, None, None\n",
    "        rows.append(event)\n",
    "\n",
    "pd.DataFrame(rows).drop(['turnoverX', 'turnoverY'], axis=1)"
   ]
  },
  {
   "cell_type": "code",
   "execution_count": 7,
   "metadata": {},
   "outputs": [],
   "source": [
    "import pandas as pd\n",
    "from audl.stats.endpoints.gameevents import GameEventsProxy\n",
    "game_events_proxy = GameEventsProxy()\n"
   ]
  },
  {
   "cell_type": "code",
   "execution_count": 2,
   "metadata": {},
   "outputs": [
    {
     "data": {
      "text/plain": [
       "(4, 6)"
      ]
     },
     "execution_count": 2,
     "metadata": {},
     "output_type": "execute_result"
    }
   ],
   "source": [
    "game_events_proxy.get_penalties_from_id('2023-06-24-DC-BOS')"
   ]
  },
  {
   "cell_type": "code",
   "execution_count": 8,
   "metadata": {},
   "outputs": [],
   "source": [
    "pulls = game_events_proxy.get_pulls_from_id('2023-06-24-DC-BOS')"
   ]
  },
  {
   "cell_type": "code",
   "execution_count": 20,
   "metadata": {},
   "outputs": [
    {
     "data": {
      "text/plain": [
       "17"
      ]
     },
     "execution_count": 20,
     "metadata": {},
     "output_type": "execute_result"
    }
   ],
   "source": [
    "pulls[pulls.is_home_team].in_bounds.sum()"
   ]
  },
  {
   "cell_type": "code",
   "execution_count": 28,
   "metadata": {},
   "outputs": [
    {
     "data": {
      "text/plain": [
       "0     False\n",
       "1     False\n",
       "2     False\n",
       "3     False\n",
       "4     False\n",
       "5     False\n",
       "6     False\n",
       "7     False\n",
       "8     False\n",
       "9     False\n",
       "10    False\n",
       "11    False\n",
       "12    False\n",
       "13    False\n",
       "14    False\n",
       "15     True\n",
       "16     True\n",
       "17    False\n",
       "Name: pullX, dtype: bool"
      ]
     },
     "execution_count": 28,
     "metadata": {},
     "output_type": "execute_result"
    }
   ],
   "source": [
    "(pulls[indexer].pullX == 26.66) | (pulls[indexer].pullX == -26.67)"
   ]
  },
  {
   "cell_type": "code",
   "execution_count": 29,
   "metadata": {},
   "outputs": [
    {
     "data": {
      "text/html": [
       "<div>\n",
       "<style scoped>\n",
       "    .dataframe tbody tr th:only-of-type {\n",
       "        vertical-align: middle;\n",
       "    }\n",
       "\n",
       "    .dataframe tbody tr th {\n",
       "        vertical-align: top;\n",
       "    }\n",
       "\n",
       "    .dataframe thead th {\n",
       "        text-align: right;\n",
       "    }\n",
       "</style>\n",
       "<table border=\"1\" class=\"dataframe\">\n",
       "  <thead>\n",
       "    <tr style=\"text-align: right;\">\n",
       "      <th></th>\n",
       "      <th>Pull Count</th>\n",
       "    </tr>\n",
       "  </thead>\n",
       "  <tbody>\n",
       "    <tr>\n",
       "      <th>bmccann</th>\n",
       "      <td>9</td>\n",
       "    </tr>\n",
       "    <tr>\n",
       "      <th>gcolton</th>\n",
       "      <td>1</td>\n",
       "    </tr>\n",
       "    <tr>\n",
       "      <th>rlinehan</th>\n",
       "      <td>7</td>\n",
       "    </tr>\n",
       "    <tr>\n",
       "      <th>In Bounds</th>\n",
       "      <td>17 (94.4%)</td>\n",
       "    </tr>\n",
       "    <tr>\n",
       "      <th>Roller</th>\n",
       "      <td>2 (11.1%)</td>\n",
       "    </tr>\n",
       "  </tbody>\n",
       "</table>\n",
       "</div>"
      ],
      "text/plain": [
       "           Pull Count\n",
       "bmccann             9\n",
       "gcolton             1\n",
       "rlinehan            7\n",
       "In Bounds  17 (94.4%)\n",
       "Roller      2 (11.1%)"
      ]
     },
     "execution_count": 29,
     "metadata": {},
     "output_type": "execute_result"
    }
   ],
   "source": [
    "pulls = game_events_proxy.get_pulls_from_id('2023-06-24-DC-BOS')\n",
    "indexer = pulls.is_home_team\n",
    "home_team_pullers = pd.DataFrame(pulls[indexer].groupby('puller').puller.count())\n",
    "home_team_pullers.index.name = None\n",
    "home_team_pullers.columns = ['Pull Count']\n",
    "home_team_pullers.sort_values('Pull Count', ascending = False)\n",
    "home_team_pullers.loc['In Bounds'] = f'{pulls[indexer].in_bounds.sum()} ({pulls[indexer].in_bounds.mean()*100:.1f}%)'\n",
    "rollers = (pulls[indexer].pullX == 26.66) | (pulls[indexer].pullX == -26.67)\n",
    "home_team_pullers.loc['Roller'] = f'{rollers.sum()} ({rollers.mean()*100:.1f}%)'\n",
    "home_team_pullers"
   ]
  },
  {
   "cell_type": "code",
   "execution_count": 37,
   "metadata": {},
   "outputs": [],
   "source": [
    "from audl.stats.endpoints.gamestats import GameStats\n",
    "from audl.stats.endpoints.gameevents import GameEventsProxy\n",
    "game_events_proxy = GameEventsProxy()\n",
    "game_stats = GameStats('2023-06-24-DC-BOS')\n",
    "home_pen, away_pen = game_events_proxy.get_penalties_from_id('2023-06-24-DC-BOS')\n",
    "df = game_stats.get_team_stats()"
   ]
  },
  {
   "cell_type": "code",
   "execution_count": null,
   "metadata": {},
   "outputs": [],
   "source": [
    "team_stats = "
   ]
  },
  {
   "cell_type": "code",
   "execution_count": null,
   "metadata": {},
   "outputs": [],
   "source": [
    "['completionsNumer', 'completionsDenom', 'hucksNumer', 'hucksDenom', 'blocks', 'turnovers', 'redZoneConversionPerc']"
   ]
  },
  {
   "cell_type": "code",
   "execution_count": 53,
   "metadata": {},
   "outputs": [],
   "source": [
    "def get_frac_string(row, names):\n",
    "    for name in names:\n",
    "        numerator = f'{name}Numer'\n",
    "        denominator = f'{name}Denom'\n",
    "        row[f'{name}'] = f'{row[numerator]}/{row[denominator]} ({row[numerator]/row[denominator]:.1f}%)'\n",
    "    return row\n"
   ]
  },
  {
   "cell_type": "code",
   "execution_count": 54,
   "metadata": {},
   "outputs": [
    {
     "ename": "KeyError",
     "evalue": "'cNumer'",
     "output_type": "error",
     "traceback": [
      "\u001b[0;31m---------------------------------------------------------------------------\u001b[0m",
      "\u001b[0;31mKeyError\u001b[0m                                  Traceback (most recent call last)",
      "File \u001b[0;32m~/miniforge3/lib/python3.9/site-packages/pandas/core/indexes/base.py:3629\u001b[0m, in \u001b[0;36mIndex.get_loc\u001b[0;34m(self, key, method, tolerance)\u001b[0m\n\u001b[1;32m   3628\u001b[0m \u001b[39mtry\u001b[39;00m:\n\u001b[0;32m-> 3629\u001b[0m     \u001b[39mreturn\u001b[39;00m \u001b[39mself\u001b[39;49m\u001b[39m.\u001b[39;49m_engine\u001b[39m.\u001b[39;49mget_loc(casted_key)\n\u001b[1;32m   3630\u001b[0m \u001b[39mexcept\u001b[39;00m \u001b[39mKeyError\u001b[39;00m \u001b[39mas\u001b[39;00m err:\n",
      "File \u001b[0;32m~/miniforge3/lib/python3.9/site-packages/pandas/_libs/index.pyx:136\u001b[0m, in \u001b[0;36mpandas._libs.index.IndexEngine.get_loc\u001b[0;34m()\u001b[0m\n",
      "File \u001b[0;32m~/miniforge3/lib/python3.9/site-packages/pandas/_libs/index.pyx:163\u001b[0m, in \u001b[0;36mpandas._libs.index.IndexEngine.get_loc\u001b[0;34m()\u001b[0m\n",
      "File \u001b[0;32mpandas/_libs/hashtable_class_helper.pxi:5198\u001b[0m, in \u001b[0;36mpandas._libs.hashtable.PyObjectHashTable.get_item\u001b[0;34m()\u001b[0m\n",
      "File \u001b[0;32mpandas/_libs/hashtable_class_helper.pxi:5206\u001b[0m, in \u001b[0;36mpandas._libs.hashtable.PyObjectHashTable.get_item\u001b[0;34m()\u001b[0m\n",
      "\u001b[0;31mKeyError\u001b[0m: 'cNumer'",
      "\nThe above exception was the direct cause of the following exception:\n",
      "\u001b[0;31mKeyError\u001b[0m                                  Traceback (most recent call last)",
      "\u001b[1;32m/Users/bradeneberhard/Ultianalytics/update_archives/update_csvs.ipynb Cell 22\u001b[0m in \u001b[0;36m1\n\u001b[0;32m----> <a href='vscode-notebook-cell:/Users/bradeneberhard/Ultianalytics/update_archives/update_csvs.ipynb#X36sZmlsZQ%3D%3D?line=0'>1</a>\u001b[0m df\u001b[39m.\u001b[39;49mapply(get_frac_string, args\u001b[39m=\u001b[39;49m(\u001b[39m'\u001b[39;49m\u001b[39mcompletions\u001b[39;49m\u001b[39m'\u001b[39;49m,) ,axis\u001b[39m=\u001b[39;49m\u001b[39m1\u001b[39;49m)\n",
      "File \u001b[0;32m~/miniforge3/lib/python3.9/site-packages/pandas/core/frame.py:8848\u001b[0m, in \u001b[0;36mDataFrame.apply\u001b[0;34m(self, func, axis, raw, result_type, args, **kwargs)\u001b[0m\n\u001b[1;32m   8837\u001b[0m \u001b[39mfrom\u001b[39;00m \u001b[39mpandas\u001b[39;00m\u001b[39m.\u001b[39;00m\u001b[39mcore\u001b[39;00m\u001b[39m.\u001b[39;00m\u001b[39mapply\u001b[39;00m \u001b[39mimport\u001b[39;00m frame_apply\n\u001b[1;32m   8839\u001b[0m op \u001b[39m=\u001b[39m frame_apply(\n\u001b[1;32m   8840\u001b[0m     \u001b[39mself\u001b[39m,\n\u001b[1;32m   8841\u001b[0m     func\u001b[39m=\u001b[39mfunc,\n\u001b[0;32m   (...)\u001b[0m\n\u001b[1;32m   8846\u001b[0m     kwargs\u001b[39m=\u001b[39mkwargs,\n\u001b[1;32m   8847\u001b[0m )\n\u001b[0;32m-> 8848\u001b[0m \u001b[39mreturn\u001b[39;00m op\u001b[39m.\u001b[39;49mapply()\u001b[39m.\u001b[39m__finalize__(\u001b[39mself\u001b[39m, method\u001b[39m=\u001b[39m\u001b[39m\"\u001b[39m\u001b[39mapply\u001b[39m\u001b[39m\"\u001b[39m)\n",
      "File \u001b[0;32m~/miniforge3/lib/python3.9/site-packages/pandas/core/apply.py:733\u001b[0m, in \u001b[0;36mFrameApply.apply\u001b[0;34m(self)\u001b[0m\n\u001b[1;32m    730\u001b[0m \u001b[39melif\u001b[39;00m \u001b[39mself\u001b[39m\u001b[39m.\u001b[39mraw:\n\u001b[1;32m    731\u001b[0m     \u001b[39mreturn\u001b[39;00m \u001b[39mself\u001b[39m\u001b[39m.\u001b[39mapply_raw()\n\u001b[0;32m--> 733\u001b[0m \u001b[39mreturn\u001b[39;00m \u001b[39mself\u001b[39;49m\u001b[39m.\u001b[39;49mapply_standard()\n",
      "File \u001b[0;32m~/miniforge3/lib/python3.9/site-packages/pandas/core/apply.py:857\u001b[0m, in \u001b[0;36mFrameApply.apply_standard\u001b[0;34m(self)\u001b[0m\n\u001b[1;32m    856\u001b[0m \u001b[39mdef\u001b[39;00m \u001b[39mapply_standard\u001b[39m(\u001b[39mself\u001b[39m):\n\u001b[0;32m--> 857\u001b[0m     results, res_index \u001b[39m=\u001b[39m \u001b[39mself\u001b[39;49m\u001b[39m.\u001b[39;49mapply_series_generator()\n\u001b[1;32m    859\u001b[0m     \u001b[39m# wrap results\u001b[39;00m\n\u001b[1;32m    860\u001b[0m     \u001b[39mreturn\u001b[39;00m \u001b[39mself\u001b[39m\u001b[39m.\u001b[39mwrap_results(results, res_index)\n",
      "File \u001b[0;32m~/miniforge3/lib/python3.9/site-packages/pandas/core/apply.py:873\u001b[0m, in \u001b[0;36mFrameApply.apply_series_generator\u001b[0;34m(self)\u001b[0m\n\u001b[1;32m    870\u001b[0m \u001b[39mwith\u001b[39;00m option_context(\u001b[39m\"\u001b[39m\u001b[39mmode.chained_assignment\u001b[39m\u001b[39m\"\u001b[39m, \u001b[39mNone\u001b[39;00m):\n\u001b[1;32m    871\u001b[0m     \u001b[39mfor\u001b[39;00m i, v \u001b[39min\u001b[39;00m \u001b[39menumerate\u001b[39m(series_gen):\n\u001b[1;32m    872\u001b[0m         \u001b[39m# ignore SettingWithCopy here in case the user mutates\u001b[39;00m\n\u001b[0;32m--> 873\u001b[0m         results[i] \u001b[39m=\u001b[39m \u001b[39mself\u001b[39;49m\u001b[39m.\u001b[39;49mf(v)\n\u001b[1;32m    874\u001b[0m         \u001b[39mif\u001b[39;00m \u001b[39misinstance\u001b[39m(results[i], ABCSeries):\n\u001b[1;32m    875\u001b[0m             \u001b[39m# If we have a view on v, we need to make a copy because\u001b[39;00m\n\u001b[1;32m    876\u001b[0m             \u001b[39m#  series_generator will swap out the underlying data\u001b[39;00m\n\u001b[1;32m    877\u001b[0m             results[i] \u001b[39m=\u001b[39m results[i]\u001b[39m.\u001b[39mcopy(deep\u001b[39m=\u001b[39m\u001b[39mFalse\u001b[39;00m)\n",
      "File \u001b[0;32m~/miniforge3/lib/python3.9/site-packages/pandas/core/apply.py:138\u001b[0m, in \u001b[0;36mApply.__init__.<locals>.f\u001b[0;34m(x)\u001b[0m\n\u001b[1;32m    137\u001b[0m \u001b[39mdef\u001b[39;00m \u001b[39mf\u001b[39m(x):\n\u001b[0;32m--> 138\u001b[0m     \u001b[39mreturn\u001b[39;00m func(x, \u001b[39m*\u001b[39;49margs, \u001b[39m*\u001b[39;49m\u001b[39m*\u001b[39;49mkwargs)\n",
      "\u001b[1;32m/Users/bradeneberhard/Ultianalytics/update_archives/update_csvs.ipynb Cell 22\u001b[0m in \u001b[0;36m5\n\u001b[1;32m      <a href='vscode-notebook-cell:/Users/bradeneberhard/Ultianalytics/update_archives/update_csvs.ipynb#X36sZmlsZQ%3D%3D?line=2'>3</a>\u001b[0m     numerator \u001b[39m=\u001b[39m \u001b[39mf\u001b[39m\u001b[39m'\u001b[39m\u001b[39m{\u001b[39;00mname\u001b[39m}\u001b[39;00m\u001b[39mNumer\u001b[39m\u001b[39m'\u001b[39m\n\u001b[1;32m      <a href='vscode-notebook-cell:/Users/bradeneberhard/Ultianalytics/update_archives/update_csvs.ipynb#X36sZmlsZQ%3D%3D?line=3'>4</a>\u001b[0m     denominator \u001b[39m=\u001b[39m \u001b[39mf\u001b[39m\u001b[39m'\u001b[39m\u001b[39m{\u001b[39;00mname\u001b[39m}\u001b[39;00m\u001b[39mDenom\u001b[39m\u001b[39m'\u001b[39m\n\u001b[0;32m----> <a href='vscode-notebook-cell:/Users/bradeneberhard/Ultianalytics/update_archives/update_csvs.ipynb#X36sZmlsZQ%3D%3D?line=4'>5</a>\u001b[0m     row[\u001b[39mf\u001b[39m\u001b[39m'\u001b[39m\u001b[39m{\u001b[39;00mname\u001b[39m}\u001b[39;00m\u001b[39m'\u001b[39m] \u001b[39m=\u001b[39m \u001b[39mf\u001b[39m\u001b[39m'\u001b[39m\u001b[39m{\u001b[39;00mrow[numerator]\u001b[39m}\u001b[39;00m\u001b[39m/\u001b[39m\u001b[39m{\u001b[39;00mrow[denominator]\u001b[39m}\u001b[39;00m\u001b[39m (\u001b[39m\u001b[39m{\u001b[39;00mrow[numerator]\u001b[39m/\u001b[39mrow[denominator]\u001b[39m:\u001b[39;00m\u001b[39m.1f\u001b[39m\u001b[39m}\u001b[39;00m\u001b[39m%)\u001b[39m\u001b[39m'\u001b[39m\n\u001b[1;32m      <a href='vscode-notebook-cell:/Users/bradeneberhard/Ultianalytics/update_archives/update_csvs.ipynb#X36sZmlsZQ%3D%3D?line=5'>6</a>\u001b[0m \u001b[39mreturn\u001b[39;00m row\n",
      "File \u001b[0;32m~/miniforge3/lib/python3.9/site-packages/pandas/core/series.py:958\u001b[0m, in \u001b[0;36mSeries.__getitem__\u001b[0;34m(self, key)\u001b[0m\n\u001b[1;32m    955\u001b[0m     \u001b[39mreturn\u001b[39;00m \u001b[39mself\u001b[39m\u001b[39m.\u001b[39m_values[key]\n\u001b[1;32m    957\u001b[0m \u001b[39melif\u001b[39;00m key_is_scalar:\n\u001b[0;32m--> 958\u001b[0m     \u001b[39mreturn\u001b[39;00m \u001b[39mself\u001b[39;49m\u001b[39m.\u001b[39;49m_get_value(key)\n\u001b[1;32m    960\u001b[0m \u001b[39mif\u001b[39;00m is_hashable(key):\n\u001b[1;32m    961\u001b[0m     \u001b[39m# Otherwise index.get_value will raise InvalidIndexError\u001b[39;00m\n\u001b[1;32m    962\u001b[0m     \u001b[39mtry\u001b[39;00m:\n\u001b[1;32m    963\u001b[0m         \u001b[39m# For labels that don't resolve as scalars like tuples and frozensets\u001b[39;00m\n",
      "File \u001b[0;32m~/miniforge3/lib/python3.9/site-packages/pandas/core/series.py:1069\u001b[0m, in \u001b[0;36mSeries._get_value\u001b[0;34m(self, label, takeable)\u001b[0m\n\u001b[1;32m   1066\u001b[0m     \u001b[39mreturn\u001b[39;00m \u001b[39mself\u001b[39m\u001b[39m.\u001b[39m_values[label]\n\u001b[1;32m   1068\u001b[0m \u001b[39m# Similar to Index.get_value, but we do not fall back to positional\u001b[39;00m\n\u001b[0;32m-> 1069\u001b[0m loc \u001b[39m=\u001b[39m \u001b[39mself\u001b[39;49m\u001b[39m.\u001b[39;49mindex\u001b[39m.\u001b[39;49mget_loc(label)\n\u001b[1;32m   1070\u001b[0m \u001b[39mreturn\u001b[39;00m \u001b[39mself\u001b[39m\u001b[39m.\u001b[39mindex\u001b[39m.\u001b[39m_get_values_for_loc(\u001b[39mself\u001b[39m, loc, label)\n",
      "File \u001b[0;32m~/miniforge3/lib/python3.9/site-packages/pandas/core/indexes/base.py:3631\u001b[0m, in \u001b[0;36mIndex.get_loc\u001b[0;34m(self, key, method, tolerance)\u001b[0m\n\u001b[1;32m   3629\u001b[0m     \u001b[39mreturn\u001b[39;00m \u001b[39mself\u001b[39m\u001b[39m.\u001b[39m_engine\u001b[39m.\u001b[39mget_loc(casted_key)\n\u001b[1;32m   3630\u001b[0m \u001b[39mexcept\u001b[39;00m \u001b[39mKeyError\u001b[39;00m \u001b[39mas\u001b[39;00m err:\n\u001b[0;32m-> 3631\u001b[0m     \u001b[39mraise\u001b[39;00m \u001b[39mKeyError\u001b[39;00m(key) \u001b[39mfrom\u001b[39;00m \u001b[39merr\u001b[39;00m\n\u001b[1;32m   3632\u001b[0m \u001b[39mexcept\u001b[39;00m \u001b[39mTypeError\u001b[39;00m:\n\u001b[1;32m   3633\u001b[0m     \u001b[39m# If we have a listlike key, _check_indexing_error will raise\u001b[39;00m\n\u001b[1;32m   3634\u001b[0m     \u001b[39m#  InvalidIndexError. Otherwise we fall through and re-raise\u001b[39;00m\n\u001b[1;32m   3635\u001b[0m     \u001b[39m#  the TypeError.\u001b[39;00m\n\u001b[1;32m   3636\u001b[0m     \u001b[39mself\u001b[39m\u001b[39m.\u001b[39m_check_indexing_error(key)\n",
      "\u001b[0;31mKeyError\u001b[0m: 'cNumer'"
     ]
    }
   ],
   "source": [
    "df.apply(get_frac_string, args=('completions',) ,axis=1)"
   ]
  },
  {
   "cell_type": "code",
   "execution_count": 39,
   "metadata": {},
   "outputs": [
    {
     "data": {
      "text/html": [
       "<div>\n",
       "<style scoped>\n",
       "    .dataframe tbody tr th:only-of-type {\n",
       "        vertical-align: middle;\n",
       "    }\n",
       "\n",
       "    .dataframe tbody tr th {\n",
       "        vertical-align: top;\n",
       "    }\n",
       "\n",
       "    .dataframe thead th {\n",
       "        text-align: right;\n",
       "    }\n",
       "</style>\n",
       "<table border=\"1\" class=\"dataframe\">\n",
       "  <thead>\n",
       "    <tr style=\"text-align: right;\">\n",
       "      <th></th>\n",
       "      <th>0</th>\n",
       "      <th>0</th>\n",
       "    </tr>\n",
       "  </thead>\n",
       "  <tbody>\n",
       "    <tr>\n",
       "      <th>id</th>\n",
       "      <td>2997</td>\n",
       "      <td>2998</td>\n",
       "    </tr>\n",
       "    <tr>\n",
       "      <th>teamSeasonId</th>\n",
       "      <td>279</td>\n",
       "      <td>257</td>\n",
       "    </tr>\n",
       "    <tr>\n",
       "      <th>gameId</th>\n",
       "      <td>2989</td>\n",
       "      <td>2989</td>\n",
       "    </tr>\n",
       "    <tr>\n",
       "      <th>source</th>\n",
       "      <td>sk-v2</td>\n",
       "      <td>sk-v2</td>\n",
       "    </tr>\n",
       "    <tr>\n",
       "      <th>startOnOffense</th>\n",
       "      <td>False</td>\n",
       "      <td>True</td>\n",
       "    </tr>\n",
       "    <tr>\n",
       "      <th>updateMoment</th>\n",
       "      <td>2023-06-24T23:02:58.925Z</td>\n",
       "      <td>2023-06-27T22:21:30.408Z</td>\n",
       "    </tr>\n",
       "    <tr>\n",
       "      <th>statusId</th>\n",
       "      <td>100</td>\n",
       "      <td>100</td>\n",
       "    </tr>\n",
       "    <tr>\n",
       "      <th>completionsNumer</th>\n",
       "      <td>262</td>\n",
       "      <td>323</td>\n",
       "    </tr>\n",
       "    <tr>\n",
       "      <th>completionsDenom</th>\n",
       "      <td>287</td>\n",
       "      <td>344</td>\n",
       "    </tr>\n",
       "    <tr>\n",
       "      <th>hucksNumer</th>\n",
       "      <td>9</td>\n",
       "      <td>2</td>\n",
       "    </tr>\n",
       "    <tr>\n",
       "      <th>hucksDenom</th>\n",
       "      <td>13</td>\n",
       "      <td>6</td>\n",
       "    </tr>\n",
       "    <tr>\n",
       "      <th>blocks</th>\n",
       "      <td>9</td>\n",
       "      <td>11</td>\n",
       "    </tr>\n",
       "    <tr>\n",
       "      <th>turnovers</th>\n",
       "      <td>25</td>\n",
       "      <td>21</td>\n",
       "    </tr>\n",
       "    <tr>\n",
       "      <th>oLineScores</th>\n",
       "      <td>13</td>\n",
       "      <td>14</td>\n",
       "    </tr>\n",
       "    <tr>\n",
       "      <th>oLinePoints</th>\n",
       "      <td>22</td>\n",
       "      <td>18</td>\n",
       "    </tr>\n",
       "    <tr>\n",
       "      <th>oLinePossessions</th>\n",
       "      <td>32</td>\n",
       "      <td>25</td>\n",
       "    </tr>\n",
       "    <tr>\n",
       "      <th>dLineScores</th>\n",
       "      <td>3</td>\n",
       "      <td>6</td>\n",
       "    </tr>\n",
       "    <tr>\n",
       "      <th>dLinePoints</th>\n",
       "      <td>18</td>\n",
       "      <td>22</td>\n",
       "    </tr>\n",
       "    <tr>\n",
       "      <th>dLinePossessions</th>\n",
       "      <td>10</td>\n",
       "      <td>17</td>\n",
       "    </tr>\n",
       "    <tr>\n",
       "      <th>redZoneScores</th>\n",
       "      <td>8</td>\n",
       "      <td>14</td>\n",
       "    </tr>\n",
       "    <tr>\n",
       "      <th>redZonePossessions</th>\n",
       "      <td>15</td>\n",
       "      <td>18</td>\n",
       "    </tr>\n",
       "    <tr>\n",
       "      <th>isHome</th>\n",
       "      <td>True</td>\n",
       "      <td>False</td>\n",
       "    </tr>\n",
       "    <tr>\n",
       "      <th>road</th>\n",
       "      <td>home</td>\n",
       "      <td>away</td>\n",
       "    </tr>\n",
       "    <tr>\n",
       "      <th>team</th>\n",
       "      <td>glory</td>\n",
       "      <td>NaN</td>\n",
       "    </tr>\n",
       "    <tr>\n",
       "      <th>completionsPerc</th>\n",
       "      <td>0.912892</td>\n",
       "      <td>0.938953</td>\n",
       "    </tr>\n",
       "    <tr>\n",
       "      <th>hucksPerc</th>\n",
       "      <td>0.692308</td>\n",
       "      <td>0.333333</td>\n",
       "    </tr>\n",
       "    <tr>\n",
       "      <th>holdPerc</th>\n",
       "      <td>0.590909</td>\n",
       "      <td>0.777778</td>\n",
       "    </tr>\n",
       "    <tr>\n",
       "      <th>oLineConversionPerc</th>\n",
       "      <td>0.40625</td>\n",
       "      <td>0.56</td>\n",
       "    </tr>\n",
       "    <tr>\n",
       "      <th>dLineConversionPerc</th>\n",
       "      <td>0.3</td>\n",
       "      <td>0.352941</td>\n",
       "    </tr>\n",
       "    <tr>\n",
       "      <th>breakPerc</th>\n",
       "      <td>0.166667</td>\n",
       "      <td>0.272727</td>\n",
       "    </tr>\n",
       "    <tr>\n",
       "      <th>redZoneConversionPerc</th>\n",
       "      <td>0.533333</td>\n",
       "      <td>0.777778</td>\n",
       "    </tr>\n",
       "  </tbody>\n",
       "</table>\n",
       "</div>"
      ],
      "text/plain": [
       "                                              0                         0\n",
       "id                                         2997                      2998\n",
       "teamSeasonId                                279                       257\n",
       "gameId                                     2989                      2989\n",
       "source                                    sk-v2                     sk-v2\n",
       "startOnOffense                            False                      True\n",
       "updateMoment           2023-06-24T23:02:58.925Z  2023-06-27T22:21:30.408Z\n",
       "statusId                                    100                       100\n",
       "completionsNumer                            262                       323\n",
       "completionsDenom                            287                       344\n",
       "hucksNumer                                    9                         2\n",
       "hucksDenom                                   13                         6\n",
       "blocks                                        9                        11\n",
       "turnovers                                    25                        21\n",
       "oLineScores                                  13                        14\n",
       "oLinePoints                                  22                        18\n",
       "oLinePossessions                             32                        25\n",
       "dLineScores                                   3                         6\n",
       "dLinePoints                                  18                        22\n",
       "dLinePossessions                             10                        17\n",
       "redZoneScores                                 8                        14\n",
       "redZonePossessions                           15                        18\n",
       "isHome                                     True                     False\n",
       "road                                       home                      away\n",
       "team                                      glory                       NaN\n",
       "completionsPerc                        0.912892                  0.938953\n",
       "hucksPerc                              0.692308                  0.333333\n",
       "holdPerc                               0.590909                  0.777778\n",
       "oLineConversionPerc                     0.40625                      0.56\n",
       "dLineConversionPerc                         0.3                  0.352941\n",
       "breakPerc                              0.166667                  0.272727\n",
       "redZoneConversionPerc                  0.533333                  0.777778"
      ]
     },
     "execution_count": 39,
     "metadata": {},
     "output_type": "execute_result"
    }
   ],
   "source": [
    "df.T"
   ]
  }
 ],
 "metadata": {
  "kernelspec": {
   "display_name": "base",
   "language": "python",
   "name": "python3"
  },
  "language_info": {
   "codemirror_mode": {
    "name": "ipython",
    "version": 3
   },
   "file_extension": ".py",
   "mimetype": "text/x-python",
   "name": "python",
   "nbconvert_exporter": "python",
   "pygments_lexer": "ipython3",
   "version": "3.9.13"
  },
  "orig_nbformat": 4
 },
 "nbformat": 4,
 "nbformat_minor": 2
}
